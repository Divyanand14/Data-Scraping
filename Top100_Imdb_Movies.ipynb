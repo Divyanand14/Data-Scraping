{
  "cells": [
    {
      "cell_type": "markdown",
      "source": [
        "**IMPORT LIBRARIES**"
      ],
      "metadata": {
        "id": "LYZjxoadt7c5"
      },
      "id": "LYZjxoadt7c5"
    },
    {
      "cell_type": "code",
      "execution_count": null,
      "id": "01be8130",
      "metadata": {
        "id": "01be8130"
      },
      "outputs": [],
      "source": [
        "from bs4 import BeautifulSoup\n",
        "import requests\n",
        "import numpy as np\n",
        "import pandas as pd"
      ]
    },
    {
      "cell_type": "markdown",
      "source": [
        "**REQUEST FOR WEB SCRAPING**"
      ],
      "metadata": {
        "id": "tp8xH8qCuJJn"
      },
      "id": "tp8xH8qCuJJn"
    },
    {
      "cell_type": "code",
      "execution_count": null,
      "id": "7e62f5fe",
      "metadata": {
        "id": "7e62f5fe"
      },
      "outputs": [],
      "source": [
        "headers = {\n",
        "    'User-Agent': 'Mozilla/5.0 (Windows NT 10.0; Win64; x64) AppleWebKit/537.36 (KHTML, like Gecko) Chrome/119.0.0.0 Safari/537.36'\n",
        "}\n",
        "try:\n",
        "    URL = requests.get('https://www.imdb.com/list/ls055592025/',headers=headers)\n",
        "    website = URL.text\n",
        "except requests.RequestException as e:\n",
        "    print(\"Error with your request:\",e)"
      ]
    },
    {
      "cell_type": "markdown",
      "source": [
        "**SOUPING**"
      ],
      "metadata": {
        "id": "Lc41074BuUCx"
      },
      "id": "Lc41074BuUCx"
    },
    {
      "cell_type": "code",
      "execution_count": null,
      "id": "1d24d17d",
      "metadata": {
        "id": "1d24d17d"
      },
      "outputs": [],
      "source": [
        "soup = BeautifulSoup(website,'html')"
      ]
    },
    {
      "cell_type": "markdown",
      "source": [
        "**GETTING THE TAGS**"
      ],
      "metadata": {
        "id": "WhlQay2FuaVN"
      },
      "id": "WhlQay2FuaVN"
    },
    {
      "cell_type": "code",
      "execution_count": null,
      "id": "65b3ac4c",
      "metadata": {
        "id": "65b3ac4c"
      },
      "outputs": [],
      "source": [
        "title = soup.find_all('h3',class_=\"lister-item-header\")\n",
        "rating = soup.find_all('span',class_='certificate')\n",
        "imdb = soup.find_all('div',class_='ipl-rating-star small')\n",
        "runtime = soup.find_all('span',class_='runtime')\n",
        "genre = soup.find_all('span',class_='genre')\n",
        "link = soup.find_all('h3',class_=\"lister-item-header\")\n",
        "gross = soup.find_all('span', attrs={'name': 'nv'})"
      ]
    },
    {
      "cell_type": "markdown",
      "source": [
        "**VALUE EXTRACT**"
      ],
      "metadata": {
        "id": "HpK6ZsGxuiOK"
      },
      "id": "HpK6ZsGxuiOK"
    },
    {
      "cell_type": "code",
      "execution_count": null,
      "id": "04ee0c45",
      "metadata": {
        "id": "04ee0c45"
      },
      "outputs": [],
      "source": [
        "movie_title = []\n",
        "\n",
        "for titles in title:\n",
        "    movie_title.append(titles.getText().strip().replace('\\n',''))\n",
        "\n",
        "movie_rating = []\n",
        "\n",
        "for ratings in rating:\n",
        "    movie_rating.append(ratings.getText().strip())\n",
        "\n",
        "gross_revenue = []\n",
        "\n",
        "for grevenue in gross:\n",
        "    gross_revenue.append(grevenue.getText().strip())\n",
        "\n",
        "movie_runtime = []\n",
        "\n",
        "for mrun in runtime:\n",
        "    movie_runtime.append(mrun.getText().strip())\n",
        "\n",
        "movie_genre = []\n",
        "\n",
        "for mgenre in genre:\n",
        "    movie_genre.append(mgenre.getText().strip())\n",
        "\n",
        "imdb_rating = []\n",
        "\n",
        "for irating in imdb:\n",
        "    imdb_rating.append(irating.get_text().strip())"
      ]
    },
    {
      "cell_type": "markdown",
      "source": [
        "**MOVIE LINKS**"
      ],
      "metadata": {
        "id": "dkD5Du5NutXC"
      },
      "id": "dkD5Du5NutXC"
    },
    {
      "cell_type": "code",
      "execution_count": null,
      "id": "3784b7b0",
      "metadata": {
        "id": "3784b7b0"
      },
      "outputs": [],
      "source": [
        "movie_anchor = []\n",
        "\n",
        "for links in link:\n",
        "    movie_anchor.append(links.find('a'))\n",
        "\n",
        "info_link = []\n",
        "\n",
        "for mlinks in movie_anchor:\n",
        "    href_value = mlinks.get('href')\n",
        "    info_link.append(href_value)\n",
        "\n",
        "movie_link = []\n",
        "for links in info_link:\n",
        "    movie_link.append('https://www.imdb.com' + links)"
      ]
    },
    {
      "cell_type": "markdown",
      "source": [
        "**CREATE DICTIONARY**"
      ],
      "metadata": {
        "id": "-mhgfyCZuxrt"
      },
      "id": "-mhgfyCZuxrt"
    },
    {
      "cell_type": "code",
      "execution_count": null,
      "id": "60a9c9b2",
      "metadata": {
        "id": "60a9c9b2"
      },
      "outputs": [],
      "source": [
        "movie_dict = {\"title\":[],\"genre\":[],\"runtime\":[],\"rating\":[],\"imdb\":[],\"details\":[]}"
      ]
    },
    {
      "cell_type": "code",
      "execution_count": null,
      "id": "0faed16a",
      "metadata": {
        "id": "0faed16a"
      },
      "outputs": [],
      "source": [
        "gross_detail = {'gross':[]}"
      ]
    },
    {
      "cell_type": "code",
      "execution_count": null,
      "id": "d7decf4b",
      "metadata": {
        "id": "d7decf4b"
      },
      "outputs": [],
      "source": [
        "movie_dict['title'] = movie_title\n",
        "movie_dict['genre'] = movie_genre\n",
        "movie_dict['runtime'] = movie_runtime\n",
        "movie_dict['rating'] = movie_rating\n",
        "movie_dict['details'] = movie_link\n",
        "movie_dict['imdb'] = imdb_rating"
      ]
    },
    {
      "cell_type": "code",
      "execution_count": null,
      "id": "153f82d2",
      "metadata": {
        "id": "153f82d2"
      },
      "outputs": [],
      "source": [
        "gross_detail['gross'] = gross_revenue\n"
      ]
    },
    {
      "cell_type": "markdown",
      "source": [
        "**TRANSFORMING UNSTRUCTURED DICTIONARY AS THE TAGS FOR GROSS AND VOTES CAN'T DIFFRENTIATED**"
      ],
      "metadata": {
        "id": "8K03WCLlu4Lf"
      },
      "id": "8K03WCLlu4Lf"
    },
    {
      "cell_type": "code",
      "source": [
        "grossandvoting = gross_detail['gross']"
      ],
      "metadata": {
        "id": "oNu-3kS5tgsc"
      },
      "id": "oNu-3kS5tgsc",
      "execution_count": null,
      "outputs": []
    },
    {
      "cell_type": "markdown",
      "source": [
        "**LISTS BASED ON CONDITIONS TO REPLACE NULL GROSS VALUES**"
      ],
      "metadata": {
        "id": "leeOQlFBvY8H"
      },
      "id": "leeOQlFBvY8H"
    },
    {
      "cell_type": "code",
      "source": [
        "gross = []\n",
        "for i in range(1, len(grossandvoting)):\n",
        "    if 'M' in grossandvoting[i]:\n",
        "        gross.append(grossandvoting[i])\n",
        "    else:\n",
        "        gross.append('not none')"
      ],
      "metadata": {
        "id": "BqcJIRintrxD"
      },
      "id": "BqcJIRintrxD",
      "execution_count": null,
      "outputs": []
    },
    {
      "cell_type": "code",
      "source": [
        "voting = []\n",
        "for i in range(0, len(grossandvoting)):\n",
        "    if 'M' in grossandvoting[i]:\n",
        "        voting.append('not none')\n",
        "    else:\n",
        "        voting.append(grossandvoting[i])"
      ],
      "metadata": {
        "id": "xy-cpB7ctuND"
      },
      "id": "xy-cpB7ctuND",
      "execution_count": null,
      "outputs": []
    },
    {
      "cell_type": "markdown",
      "source": [
        "**CONVERSION TO DATAFRAME**"
      ],
      "metadata": {
        "id": "9P99RfAHvnU3"
      },
      "id": "9P99RfAHvnU3"
    },
    {
      "cell_type": "code",
      "source": [
        "movie_df = pd.DataFrame.from_dict(movie_dict)\n",
        "voting_df = pd.DataFrame(voting,columns=['voting'])\n",
        "gross_df = pd.DataFrame(gross,columns=['gross'])"
      ],
      "metadata": {
        "id": "754X_7IqtxpT"
      },
      "id": "754X_7IqtxpT",
      "execution_count": null,
      "outputs": []
    },
    {
      "cell_type": "markdown",
      "source": [
        "**CSV EXPORT**"
      ],
      "metadata": {
        "id": "iXBuvH7_vsGK"
      },
      "id": "iXBuvH7_vsGK"
    },
    {
      "cell_type": "code",
      "source": [
        "voting_file = 'F:\\\\Python\\\\votes.csv'\n",
        "grossrevenue_file = 'F:\\\\Python\\\\grossvalue.csv'"
      ],
      "metadata": {
        "id": "ZQIXlpLtt0mg"
      },
      "id": "ZQIXlpLtt0mg",
      "execution_count": null,
      "outputs": []
    },
    {
      "cell_type": "code",
      "source": [
        "movie_df.to_csv(\"moviedata.csv\", header=True, index=False)\n",
        "voting_df.to_csv(voting_file, header=True, index=False)\n",
        "gross_df.to_csv(grossrevenue_file, header=True, index=False)"
      ],
      "metadata": {
        "id": "OYwXNpKlt2Xz"
      },
      "id": "OYwXNpKlt2Xz",
      "execution_count": null,
      "outputs": []
    }
  ],
  "metadata": {
    "kernelspec": {
      "display_name": "Python 3 (ipykernel)",
      "language": "python",
      "name": "python3"
    },
    "language_info": {
      "codemirror_mode": {
        "name": "ipython",
        "version": 3
      },
      "file_extension": ".py",
      "mimetype": "text/x-python",
      "name": "python",
      "nbconvert_exporter": "python",
      "pygments_lexer": "ipython3",
      "version": "3.11.5"
    },
    "colab": {
      "provenance": []
    }
  },
  "nbformat": 4,
  "nbformat_minor": 5
}