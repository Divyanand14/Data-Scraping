{
 "cells": [
  {
   "cell_type": "code",
   "execution_count": null,
   "id": "01be8130",
   "metadata": {},
   "outputs": [],
   "source": [
    "### IMPORT LIBRARIES\n",
    "\n",
    "from bs4 import BeautifulSoup\n",
    "import requests\n",
    "import numpy as np\n",
    "import pandas as pd"
   ]
  },
  {
   "cell_type": "code",
   "execution_count": null,
   "id": "7e62f5fe",
   "metadata": {},
   "outputs": [],
   "source": [
    "### HANDLING ERROR FOR THE WEB REQUEST\n",
    "\n",
    "headers = {\n",
    "    'User-Agent': 'Mozilla/5.0 (Windows NT 10.0; Win64; x64) AppleWebKit/537.36 (KHTML, like Gecko) Chrome/119.0.0.0 Safari/537.36'\n",
    "}\n",
    "try:\n",
    "    URL = requests.get('https://www.imdb.com/list/ls055592025/',headers=headers)\n",
    "    website = URL.text\n",
    "except requests.RequestException as e:\n",
    "    print(\"Error with your request:\",e)"
   ]
  },
  {
   "cell_type": "code",
   "execution_count": null,
   "id": "1d24d17d",
   "metadata": {},
   "outputs": [],
   "source": [
    "### SOUP\n",
    "\n",
    "soup = BeautifulSoup(website,'html')"
   ]
  },
  {
   "cell_type": "code",
   "execution_count": null,
   "id": "65b3ac4c",
   "metadata": {},
   "outputs": [],
   "source": [
    "### GETTING TAGS\n",
    "\n",
    "title = soup.find_all('h3',class_=\"lister-item-header\")\n",
    "rating = soup.find_all('span',class_='certificate')\n",
    "imdb = soup.find_all('span',class_='ipl-rating-star__rating')\n",
    "runtime = soup.find_all('span',class_='runtime')\n",
    "genre = soup.find_all('span',class_='genre')\n",
    "link = soup.find_all('h3',class_=\"lister-item-header\")\n",
    "gross = soup.find_all('span', attrs={'name': 'nv'})"
   ]
  },
  {
   "cell_type": "code",
   "execution_count": null,
   "id": "04ee0c45",
   "metadata": {},
   "outputs": [],
   "source": [
    "#### VALUE EXTRACT\n",
    "\n",
    "movie_title = []\n",
    "\n",
    "for titles in title:\n",
    "    movie_title.append(titles.getText().strip().replace('\\n',''))\n",
    "    \n",
    "movie_rating = []\n",
    "\n",
    "for ratings in rating:\n",
    "    movie_rating.append(ratings.getText().strip())\n",
    "    \n",
    "gross_revenue = []\n",
    "\n",
    "for grevenue in gross:\n",
    "    gross_revenue.append(grevenue.getText().strip())\n",
    "    \n",
    "movie_runtime = []\n",
    "\n",
    "for mrun in runtime:\n",
    "    movie_runtime.append(mrun.getText().strip())\n",
    "\n",
    "movie_genre = []\n",
    "\n",
    "for mgenre in genre:\n",
    "    movie_genre.append(mgenre.getText().strip())\n",
    "    \n",
    "imdb_rating = []\n",
    "\n",
    "for irating in imdb:\n",
    "    imdb_rating.append(irating.get_text().strip())"
   ]
  },
  {
   "cell_type": "code",
   "execution_count": null,
   "id": "3784b7b0",
   "metadata": {},
   "outputs": [],
   "source": [
    "####GETTING THE LINK\n",
    "\n",
    "movie_anchor = []\n",
    "\n",
    "for links in link:\n",
    "    movie_anchor.append(links.find('a'))\n",
    "\n",
    "info_link = []\n",
    "\n",
    "for mlinks in movie_anchor:\n",
    "    href_value = mlinks.get('href')\n",
    "    info_link.append(href_value)\n",
    "\n",
    "movie_link = []\n",
    "for links in info_link:\n",
    "    movie_link.append('https://www.imdb.com' + links)"
   ]
  },
  {
   "cell_type": "code",
   "execution_count": null,
   "id": "60a9c9b2",
   "metadata": {},
   "outputs": [],
   "source": [
    "### CREATE DICTIONARY\n",
    "\n",
    "movie_dict = {\"title\":[],\"genre\":[],\"runtime\":[],\"rating\":[],\"details\":[]}"
   ]
  },
  {
   "cell_type": "code",
   "execution_count": null,
   "id": "0faed16a",
   "metadata": {},
   "outputs": [],
   "source": [
    "gross_detail = {'gross':[]}\n",
    "imdb_value= {'imdb':[]}"
   ]
  },
  {
   "cell_type": "code",
   "execution_count": null,
   "id": "d7decf4b",
   "metadata": {},
   "outputs": [],
   "source": [
    "d['title'] = movie_title\n",
    "d['genre'] = movie_genre\n",
    "d['runtime'] = movie_runtime\n",
    "d['rating'] = movie_rating\n",
    "d['details'] = movie_link"
   ]
  },
  {
   "cell_type": "code",
   "execution_count": null,
   "id": "153f82d2",
   "metadata": {},
   "outputs": [],
   "source": [
    "gross_detail['gross'] = gross_revenue\n",
    "imdb_value['imdb'] = imdb_rating"
   ]
  },
  {
   "cell_type": "code",
   "execution_count": null,
   "id": "a051646a",
   "metadata": {},
   "outputs": [],
   "source": [
    "###INSPECTING THE LENGTH\n",
    "\n",
    "lengths = [len(value) for value in d.values()]\n",
    "print(lengths) "
   ]
  },
  {
   "cell_type": "code",
   "execution_count": null,
   "id": "c36ddaeb",
   "metadata": {},
   "outputs": [],
   "source": [
    "lengths = [len(value) for value in gross_detail.values()]\n",
    "print(lengths) "
   ]
  },
  {
   "cell_type": "code",
   "execution_count": null,
   "id": "039143e6",
   "metadata": {},
   "outputs": [],
   "source": [
    "lengths = [len(value) for value in imdb_value.values()]\n",
    "print(lengths) "
   ]
  },
  {
   "cell_type": "code",
   "execution_count": null,
   "id": "32167434",
   "metadata": {},
   "outputs": [],
   "source": [
    "### DATAFRAME CONVERSION AND CSV EXPORT\n",
    "\n",
    "movie_df = pd.DataFrame.from_dict(d)\n",
    "movie_df.to_csv(\"moviedata.csv\", header=True, index=False)\n",
    "gross_df = pd.DataFrame.from_dict(gross_detail)\n",
    "gross_df.to_csv(\"grossdata.csv\", header=True, index=False)\n",
    "imdb_df = pd.DataFrame.from_dict(imdb_value)\n",
    "imdb_df.to_csv(\"imdbdata.csv\", header=True, index=False)"
   ]
  }
 ],
 "metadata": {
  "kernelspec": {
   "display_name": "Python 3 (ipykernel)",
   "language": "python",
   "name": "python3"
  },
  "language_info": {
   "codemirror_mode": {
    "name": "ipython",
    "version": 3
   },
   "file_extension": ".py",
   "mimetype": "text/x-python",
   "name": "python",
   "nbconvert_exporter": "python",
   "pygments_lexer": "ipython3",
   "version": "3.11.5"
  }
 },
 "nbformat": 4,
 "nbformat_minor": 5
}
